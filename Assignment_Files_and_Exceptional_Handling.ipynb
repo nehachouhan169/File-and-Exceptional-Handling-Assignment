{
  "nbformat": 4,
  "nbformat_minor": 0,
  "metadata": {
    "colab": {
      "provenance": []
    },
    "kernelspec": {
      "name": "python3",
      "display_name": "Python 3"
    },
    "language_info": {
      "name": "python"
    }
  },
  "cells": [
    {
      "cell_type": "markdown",
      "source": [
        "### **Files and Exceptional Handling,logging and memory management Questions/Answers**\n"
      ],
      "metadata": {
        "id": "eSpdPJ48t5iH"
      }
    },
    {
      "cell_type": "markdown",
      "source": [
        "### **Theory Q/A**"
      ],
      "metadata": {
        "id": "x23biD0Uuy_B"
      }
    },
    {
      "cell_type": "markdown",
      "source": [
        "**1) What is the difference between interpreted and compiled languages?**\n",
        "#### > **Interpreted Language -** It is executed line by line by an interpreter at runtime and no separate executable is created.It is a slow process so translation happens during execution.It is easy to debug and test and is platform-independent and errors show at runtime itself.\n",
        "#### > **Compiler Language -** The entire source code is translated into machine code before execution using a compiler.It creates a separate executable file.It is faster during execution so the code is already compiled.It is less portable."
      ],
      "metadata": {
        "id": "MESRu9geu7S6"
      }
    },
    {
      "cell_type": "markdown",
      "source": [
        "**2) What is exception handling in Python?**\n",
        "#### > Exception handling in Python is a way to handle errors that may occur during program execution, so program doesn't crash unexpectedly.\n",
        "\n"
      ],
      "metadata": {
        "id": "00SWwDcRxxyh"
      }
    },
    {
      "cell_type": "markdown",
      "source": [
        "**3) What is the purpose of the finally block in exception handling?**\n",
        "#### > The main purpose of the finally block is to ensure that certain code always runs,whether an exception is raised,an exception is handled,or no exception happened at all."
      ],
      "metadata": {
        "id": "gdaZYV2Ay3rH"
      }
    },
    {
      "cell_type": "markdown",
      "source": [
        "**4)  What is logging in Python?**\n",
        "#### > Logging in Python is the process of recording messages about program's execution such as errors, warnings, info, or debug details."
      ],
      "metadata": {
        "id": "n-GkxHun0Jzv"
      }
    },
    {
      "cell_type": "markdown",
      "source": [
        "**5)  What is the significance of the __del__ method in Python?**\n",
        "#### > The __del__ method in Python is a special method called a destructor. It is automatically called when an object is about to be destroyed."
      ],
      "metadata": {
        "id": "Dd4iAKZU1QOL"
      }
    },
    {
      "cell_type": "markdown",
      "source": [
        "**6)  What is the difference between import and from ... import in Python?**\n",
        "#### > **import -** When we want to import the entire module and we prefer a clear namespacing.\n",
        "#### > **from...import -** When we want to import only specific parts of a module and when we want shorter code."
      ],
      "metadata": {
        "id": "o7mYxxhG5Axl"
      }
    },
    {
      "cell_type": "markdown",
      "source": [
        "**7) How can you handle multiple exceptions in Python?**\n",
        "#### > Python allows to handle multiple types of exceptions in a clean and structured way, using either multiple except blocks or a single except block that handles multiple exceptions."
      ],
      "metadata": {
        "id": "gOOv4pHa6RT4"
      }
    },
    {
      "cell_type": "markdown",
      "source": [
        "**8) What is the purpose of the with statement when handling files in Python?**\n",
        "#### > The with statement is used to simplify file handling and ensure that resources like files are properly managed and closed, even if an error occurs The main purpose is to automatically open and close a file without having to call file.close() manually."
      ],
      "metadata": {
        "id": "0_jiBTRx6kKE"
      }
    },
    {
      "cell_type": "markdown",
      "source": [
        "**9) What is the difference between multithreading and multiprocessing?**\n",
        "#### > **multithreading -** It means running multiple threads concurrently within a single program to perform multiple tasks at the same time.\n",
        "#### > **multiprocessing -** It is a way to run multiple processes simultaneously to take advantage of multiple CPU cores. Each process runs independently, with its own Python interpreter and memory space."
      ],
      "metadata": {
        "id": "0Qotfhb57FQO"
      }
    },
    {
      "cell_type": "markdown",
      "source": [
        "**10) What are the advantages of using logging in a program?**\n",
        "#### > The  Advantages of Using Logging in a Program are:\n",
        "- Tracks Program Execution\n",
        "- Easier to Disable or Configure\n",
        "- code maintainableand debuggable\n",
        "-  Automatic Timestamps and Formatting"
      ],
      "metadata": {
        "id": "ktY9GrBk772w"
      }
    },
    {
      "cell_type": "markdown",
      "source": [
        "**11) What is memory management in Python?**\n",
        "#### > Memory management in Python refers to how Python handles the allocation and deallocation of memory for variables, objects, and data structures while a program runs."
      ],
      "metadata": {
        "id": "X_ealQGH833_"
      }
    },
    {
      "cell_type": "markdown",
      "source": [
        "**12) What are the basic steps involved in exception handling in Python?**\n",
        "#### > Basic Steps Involved in Exception Handling in Python are:\n",
        "- Using a try block to write risky code\n",
        "- Using one or more except blocks to handle specific errors\n",
        "- Using an else block(optional)\n",
        "- Using a finally block(optional)"
      ],
      "metadata": {
        "id": "E4bFqsoz9QT8"
      }
    },
    {
      "cell_type": "markdown",
      "source": [
        "**13) Why is memory management important in Python?**\n",
        "#### > Memory management is important in  Python because it directly affects program's performance, reliability, and scalability."
      ],
      "metadata": {
        "id": "fUhaRIUq-AKb"
      }
    },
    {
      "cell_type": "markdown",
      "source": [
        "**14) What is the role of try and except in exception handling?**\n",
        "#### > **try- try Block — Detects Risky Code** The try block contains code that might raise an exception.Python will attempt to run this block, and if an error occurs, it immediately jumps to the corresponding except.\n",
        "#### > **except - except Block — Handles the Error** The except block defines how to respond when a specific exception occurs.It prevents the program from crashing and allows to show a helpful message or take action.\n"
      ],
      "metadata": {
        "id": "Rs3A_JJ8-fNO"
      }
    },
    {
      "cell_type": "markdown",
      "source": [
        "**15) How does Python's garbage collection system work?**\n",
        "#### > Python uses a garbage collection system to automatically manage memory, reclaiming memory from objects that are no longer needed. This helps prevent memory leaks and makes memory management much easier for the programmer.It works in the following way:\n",
        "- Using reference counting to destroy unused objects,\n",
        "- Using the garbage collector module to clean up cyclic references,\n",
        "- Organizing memory in generations for efficiency.\n",
        "\n",
        "\n",
        "\n"
      ],
      "metadata": {
        "id": "uIiFGvta_R2D"
      }
    },
    {
      "cell_type": "markdown",
      "source": [
        "**16) What is the purpose of the else block in exception handling**\n",
        "#### > The purpose of the else Block in Python Exception Handling is used to define code that should run only if no exceptions are raised in the try block which means,If no exception occurs else block runs If an exception occurs else block is skipped."
      ],
      "metadata": {
        "id": "023XsZd3AL1H"
      }
    },
    {
      "cell_type": "markdown",
      "source": [
        "**17) What are the common logging levels in Python?**\n",
        "#### > Python's logging module provides five standard logging levels and they are:\n",
        "- DEBUG\n",
        "- INFO\n",
        "- WARNING\n",
        "- ERROR\n",
        "- CRITICAL"
      ],
      "metadata": {
        "id": "VeDK5fn7BG9W"
      }
    },
    {
      "cell_type": "markdown",
      "source": [
        "**18) What is the difference between os.fork() and multiprocessing in Python?**\n",
        "#### > **os.fork() -** It creates a new child process by duplicating the current process.The child gets a copy of the parent's memory space.\n",
        "#### > **multiprocessing -** It provides a high-level API to create and manage processes in a portable way."
      ],
      "metadata": {
        "id": "dpt-FzpaBr8v"
      }
    },
    {
      "cell_type": "markdown",
      "source": [
        "**19) What is the importance of closing a file in Python?**\n",
        "#### > The importance of Closing a File in Python\n",
        "- Freeing System Resources\n",
        "- Ensuring Data is Written\n",
        "- Preventing Data Corruption\n",
        "-  Avoiding File Locks\n",
        "-  Good Programming Practice"
      ],
      "metadata": {
        "id": "lFYmdaNXCRmt"
      }
    },
    {
      "cell_type": "markdown",
      "source": [
        "**20) What is the difference between file.read() and file.readline() in Python?**\n",
        "#### > **file.read() -** Reads the entire content of the file.Returns a string containing all data.Moves the file cursor to the end of the file after reading.\n",
        "#### > **file.readline() -** Reads one line from the file at a time.Returns a string containing the line, including the newline character.Moves the file cursor to the start of the next line after reading."
      ],
      "metadata": {
        "id": "aXxXmXw9DIBt"
      }
    },
    {
      "cell_type": "markdown",
      "source": [
        "**21) What is the logging module in Python used for?**\n",
        "#### > The logging module in Python is used to record messages that describe the execution of a program, especially for:\n",
        "\n",
        "- Tracking events and errors during program execution\n",
        "\n",
        "- Debugging and troubleshooting\n",
        "\n",
        "- Monitoring the flow and status of applications\n",
        "\n",
        "- Recording information in a flexible and configurable way"
      ],
      "metadata": {
        "id": "NrAE29K1EOEl"
      }
    },
    {
      "cell_type": "markdown",
      "source": [
        "**22)  What is the os module in Python used for in file handling?**\n",
        "#### > The os module provides a way to interact with the operating system, and it offers many useful functions for file and directory handling beyond simple reading and writing.\n",
        "\n"
      ],
      "metadata": {
        "id": "fC3vGzsTElSB"
      }
    },
    {
      "cell_type": "markdown",
      "source": [
        "**23) What are the challenges associated with memory management in Python?**\n",
        "#### > Challenges Associated with Memory Management in Python are;\n",
        "- Global Interpreter Lock impact\n",
        "- Memory Leaks Due to Circular References\n",
        "- High Memory Usage from Dynamic Typing\n",
        "- Unpredictable Garbage Collection Timing"
      ],
      "metadata": {
        "id": "iTBefY9-E8JT"
      }
    },
    {
      "cell_type": "markdown",
      "source": [
        "**24) How do you raise an exception manually in Python?**\n",
        "#### > We can manually trigger (raise) an exception in Python using the raise statement.\n",
        "**Syntax**\n",
        "- raise ExceptionType(\"Optional error message\")"
      ],
      "metadata": {
        "id": "k4mJeXPFFTED"
      }
    },
    {
      "cell_type": "markdown",
      "source": [
        "**25) Why is it important to use multithreading in certain applications?**\n",
        "#### > Multithreading allows a program to run multiple threads concurrently within a single process. This is especially useful for improving performance.\n",
        "- Improves Responsiveness\n",
        "- Better Resource Utilization\n",
        "- Simplifies Program Structure\n",
        "- Faster Execution for Waiting Tasks"
      ],
      "metadata": {
        "id": "WLRV7SwNF0ig"
      }
    },
    {
      "cell_type": "markdown",
      "source": [
        "**Practical Q/A**"
      ],
      "metadata": {
        "id": "uPxeBFJvV2mM"
      }
    },
    {
      "cell_type": "markdown",
      "source": [
        "**1) How can you open a file for writing in Python and write a string to it.**"
      ],
      "metadata": {
        "id": "cN5KVngEWBOi"
      }
    },
    {
      "cell_type": "code",
      "source": [
        "file = open('myfile.txt', 'w')\n",
        "file.write('Hello, this is a test message.')\n",
        "file.close()\n",
        "file = open('myfile.txt', 'r')\n",
        "content = file.read()\n",
        "file.close()\n",
        "\n",
        "print(content)"
      ],
      "metadata": {
        "colab": {
          "base_uri": "https://localhost:8080/"
        },
        "id": "evktQFlXV-3h",
        "outputId": "cb8d7d99-ffe7-4af1-a8a6-7d855071505f"
      },
      "execution_count": 13,
      "outputs": [
        {
          "output_type": "stream",
          "name": "stdout",
          "text": [
            "Hello, this is a test message.\n"
          ]
        }
      ]
    },
    {
      "cell_type": "markdown",
      "source": [
        "**2)  Write a Python program to read the contents of a file and print each line.**"
      ],
      "metadata": {
        "id": "jojfxLSAWsfw"
      }
    },
    {
      "cell_type": "code",
      "source": [
        "file = open('sample.txt', 'w')\n",
        "file.write(\"Line 1: Hello!\\nLine 2: This is a test file.\\nLine 3: Goodbye!\")\n",
        "file.close()\n",
        "file = open('sample.txt', 'r')\n",
        "for line in file:\n",
        "    print(line, end='')\n",
        "\n",
        "file.close()"
      ],
      "metadata": {
        "colab": {
          "base_uri": "https://localhost:8080/"
        },
        "id": "AAkgwLpdWwcu",
        "outputId": "bf81126d-9bf0-43c5-ece5-9530aa61ee26"
      },
      "execution_count": 14,
      "outputs": [
        {
          "output_type": "stream",
          "name": "stdout",
          "text": [
            "Line 1: Hello!\n",
            "Line 2: This is a test file.\n",
            "Line 3: Goodbye!"
          ]
        }
      ]
    },
    {
      "cell_type": "markdown",
      "source": [
        "**3) How would you handle a case where the file doesn't exist while trying to open it for reading.**"
      ],
      "metadata": {
        "id": "U8I2BiDoXAtZ"
      }
    },
    {
      "cell_type": "code",
      "source": [
        "filename = 'missing_file.txt'\n",
        "\n",
        "try:\n",
        "    file = open(filename, 'r')\n",
        "    for line in file:\n",
        "        print(line, end='')\n",
        "    file.close()\n",
        "except FileNotFoundError:\n",
        "    print(f\"Error: The file '{filename}' does not exist.\")"
      ],
      "metadata": {
        "colab": {
          "base_uri": "https://localhost:8080/"
        },
        "id": "NRD6VSdjXXfA",
        "outputId": "fd6248ee-daa2-4340-f770-fee79cff22a5"
      },
      "execution_count": 15,
      "outputs": [
        {
          "output_type": "stream",
          "name": "stdout",
          "text": [
            "Error: The file 'missing_file.txt' does not exist.\n"
          ]
        }
      ]
    },
    {
      "cell_type": "markdown",
      "source": [
        "**4) Write a Python script that reads from one file and writes its content to another file.**"
      ],
      "metadata": {
        "id": "SASbePtQXnbz"
      }
    },
    {
      "cell_type": "code",
      "source": [
        "f = open('source.txt', 'w')\n",
        "f.write(\"Hello, this is line 1.\\nThis is line 2.\\nEnd of file.\")\n",
        "f.close()\n",
        "source_file = open('source.txt', 'r')\n",
        "destination_file = open('destination.txt', 'w')\n",
        "\n",
        "for line in source_file:\n",
        "    destination_file.write(line)\n",
        "\n",
        "source_file.close()\n",
        "destination_file.close()\n",
        "\n",
        "f = open('destination.txt', 'r')\n",
        "content = f.read()\n",
        "f.close()\n",
        "\n",
        "print(content)"
      ],
      "metadata": {
        "colab": {
          "base_uri": "https://localhost:8080/"
        },
        "id": "R_OgqAHtXrtv",
        "outputId": "ee9aa4f7-d5ec-4688-98be-eb5550299126"
      },
      "execution_count": 12,
      "outputs": [
        {
          "output_type": "stream",
          "name": "stdout",
          "text": [
            "Hello, this is line 1.\n",
            "This is line 2.\n",
            "End of file.\n"
          ]
        }
      ]
    },
    {
      "cell_type": "markdown",
      "source": [
        "**5) How would you catch and handle division by zero error in Python.**"
      ],
      "metadata": {
        "id": "ouV49YdfZhJc"
      }
    },
    {
      "cell_type": "code",
      "source": [
        "try:\n",
        "    numerator = 10\n",
        "    denominator = 0\n",
        "    result = numerator / denominator\n",
        "    print(\"Result:\", result)\n",
        "except ZeroDivisionError:\n",
        "    print(\"Error: Cannot divide by zero!\")"
      ],
      "metadata": {
        "colab": {
          "base_uri": "https://localhost:8080/"
        },
        "id": "B9K_7DevZlFB",
        "outputId": "2573a3c5-644a-4464-b45b-d908bbb5e476"
      },
      "execution_count": 16,
      "outputs": [
        {
          "output_type": "stream",
          "name": "stdout",
          "text": [
            "Error: Cannot divide by zero!\n"
          ]
        }
      ]
    },
    {
      "cell_type": "markdown",
      "source": [
        "**6) Write a Python program that logs an error message to a log file when a division by zero exception occurs.**"
      ],
      "metadata": {
        "id": "HtQa2GfCZ3Q8"
      }
    },
    {
      "cell_type": "code",
      "source": [
        "import logging\n",
        "\n",
        "logging.basicConfig(filename='error.log', level=logging.ERROR)\n",
        "\n",
        "numerator = 10\n",
        "denominator = 0\n",
        "\n",
        "try:\n",
        "    result = numerator / denominator\n",
        "except ZeroDivisionError:\n",
        "    logging.error(\"Division by zero error!\")\n",
        "    print(\"Error logged.\")"
      ],
      "metadata": {
        "colab": {
          "base_uri": "https://localhost:8080/"
        },
        "id": "MSNPPbOiZ7lD",
        "outputId": "cb5e3769-2047-4cd3-fa6c-f8ad18eba376"
      },
      "execution_count": 18,
      "outputs": [
        {
          "output_type": "stream",
          "name": "stderr",
          "text": [
            "ERROR:root:Division by zero error!\n"
          ]
        },
        {
          "output_type": "stream",
          "name": "stdout",
          "text": [
            "Error logged.\n"
          ]
        }
      ]
    },
    {
      "cell_type": "markdown",
      "source": [
        "**7) How do you log information at different levels (INFO, ERROR, WARNING) in Python using the logging module?**"
      ],
      "metadata": {
        "id": "AVPhgBLSax0N"
      }
    },
    {
      "cell_type": "code",
      "source": [
        "import logging\n",
        "\n",
        "# Configure logging (prints to console)\n",
        "logging.basicConfig(level=logging.DEBUG, format='%(levelname)s: %(message)s')\n",
        "\n",
        "logging.debug(\"This is a debug message\")\n",
        "logging.info(\"This is an info message\")\n",
        "logging.warning(\"This is a warning message\")\n",
        "logging.error(\"This is an error message\")\n",
        "logging.critical(\"This is critical\")\n",
        "\n"
      ],
      "metadata": {
        "colab": {
          "base_uri": "https://localhost:8080/"
        },
        "id": "zcYcbgGua5bq",
        "outputId": "746e413c-773d-48ce-9d24-4b6ec1b14701"
      },
      "execution_count": 21,
      "outputs": [
        {
          "output_type": "stream",
          "name": "stderr",
          "text": [
            "WARNING:root:This is a warning message\n",
            "ERROR:root:This is an error message\n",
            "CRITICAL:root:This is critical\n"
          ]
        }
      ]
    },
    {
      "cell_type": "markdown",
      "source": [
        "**8) Write a program to handle a file opening error using exception handling.**"
      ],
      "metadata": {
        "id": "hqpimoZ9bgVO"
      }
    },
    {
      "cell_type": "code",
      "source": [
        "filename = 'non_existent_file.txt'\n",
        "\n",
        "try:\n",
        "    file = open(filename, 'r')\n",
        "    content = file.read()\n",
        "    file.close()\n",
        "    print(content)\n",
        "except FileNotFoundError:\n",
        "    print(f\"Error: The file '{filename}' was not found.\")\n",
        "except IOError:\n",
        "    print(f\"Error: An I/O error occurred while trying to open '{filename}'.\")"
      ],
      "metadata": {
        "colab": {
          "base_uri": "https://localhost:8080/"
        },
        "id": "z_M-R_TCblZB",
        "outputId": "d4507c61-ea10-4d64-8c5e-57408baf6ae1"
      },
      "execution_count": 22,
      "outputs": [
        {
          "output_type": "stream",
          "name": "stdout",
          "text": [
            "Error: The file 'non_existent_file.txt' was not found.\n"
          ]
        }
      ]
    },
    {
      "cell_type": "markdown",
      "source": [
        "**9) How can you read a file line by line and store its content in a list in Python?**"
      ],
      "metadata": {
        "id": "kAp4KhGib3Pn"
      }
    },
    {
      "cell_type": "code",
      "source": [
        "file = open('sample.txt', 'w')\n",
        "file.write(\"Neha\\nChouhan\\nPW Skills\\n\")\n",
        "file.close()\n",
        "file = open('sample.txt', 'r')\n",
        "lines = []\n",
        "for line in file:\n",
        "    lines.append(line.strip())\n",
        "file.close()\n",
        "\n",
        "print(lines)"
      ],
      "metadata": {
        "colab": {
          "base_uri": "https://localhost:8080/"
        },
        "id": "8oHlj9gkb7bE",
        "outputId": "5ece24f7-3bda-4c57-bcc6-c8937a0c5482"
      },
      "execution_count": 23,
      "outputs": [
        {
          "output_type": "stream",
          "name": "stdout",
          "text": [
            "['Neha', 'Chouhan', 'PW Skills']\n"
          ]
        }
      ]
    },
    {
      "cell_type": "markdown",
      "source": [
        "**10)  How can you append data to an existing file in Python?**"
      ],
      "metadata": {
        "id": "Kz49yIsJdVnd"
      }
    },
    {
      "cell_type": "code",
      "source": [
        "file = open('myfile.txt', 'w')\n",
        "file.write(\"Apple\\nMango\\n\")\n",
        "file.close()\n",
        "file = open('myfile.txt', 'a')\n",
        "file.write(\"Orange\\nGrapes\\n\")\n",
        "file.close()\n",
        "file = open('myfile.txt', 'r')\n",
        "content = file.read()\n",
        "file.close()\n",
        "print(content)\n"
      ],
      "metadata": {
        "colab": {
          "base_uri": "https://localhost:8080/"
        },
        "id": "pyscS6TIdaUO",
        "outputId": "78d080ac-1417-4b12-9cf1-7823c0f9511b"
      },
      "execution_count": 26,
      "outputs": [
        {
          "output_type": "stream",
          "name": "stdout",
          "text": [
            "Apple\n",
            "Mango\n",
            "Orange\n",
            "Grapes\n",
            "\n"
          ]
        }
      ]
    },
    {
      "cell_type": "markdown",
      "source": [
        "**11) Write a Python program that uses a try-except block to handle an error when attempting to access a dictionary key that doesn't exist.**"
      ],
      "metadata": {
        "id": "ICg5uMDmd6B4"
      }
    },
    {
      "cell_type": "code",
      "source": [
        "my_dict = {'name': 'Neha', 'age': 24}\n",
        "\n",
        "try:\n",
        "    print(my_dict['address'])\n",
        "except KeyError:\n",
        "    print(\"Error: The key 'address' does not exist in the dictionary.\")"
      ],
      "metadata": {
        "colab": {
          "base_uri": "https://localhost:8080/"
        },
        "id": "2Qpgyc88eBv-",
        "outputId": "0065cdde-b997-4af8-9a68-d53739ec466d"
      },
      "execution_count": 27,
      "outputs": [
        {
          "output_type": "stream",
          "name": "stdout",
          "text": [
            "Error: The key 'address' does not exist in the dictionary.\n"
          ]
        }
      ]
    },
    {
      "cell_type": "markdown",
      "source": [
        "**12) Write a program that demonstrates using multiple except blocks to handle different types of exceptions.**"
      ],
      "metadata": {
        "id": "7rianosleTNj"
      }
    },
    {
      "cell_type": "code",
      "source": [
        "try:\n",
        "    print(\"1: ZeroDivisionError\")\n",
        "    result = 10 / 0\n",
        "except ZeroDivisionError:\n",
        "    print(\"Caught ZeroDivisionError: Cannot divide by zero!\")\n",
        "print()\n",
        "\n",
        "try:\n",
        "    print(\"2: ValueError\")\n",
        "    num = int(\"nine\")\n",
        "except ValueError:\n",
        "    print(\"Caught ValueError: Invalid integer!\")\n",
        "print()\n",
        "\n",
        "try:\n",
        "    print(\"3: KeyError\")\n",
        "    d = {'a': 1}\n",
        "    print(d['b'])\n",
        "except KeyError:\n",
        "    print(\"Caught KeyError: Key not found in dictionary!\")\n",
        "print()\n",
        "\n",
        "try:\n",
        "    print(\"4: Generic Exception\")\n",
        "    x = undefined_variable\n",
        "except Exception as e:\n",
        "    print(f\"Caught generic exception: {e}\")"
      ],
      "metadata": {
        "colab": {
          "base_uri": "https://localhost:8080/"
        },
        "id": "eG--TxqNeXsW",
        "outputId": "4bc74bf9-ea7e-48df-f1c9-5e6fc5e36a18"
      },
      "execution_count": 31,
      "outputs": [
        {
          "output_type": "stream",
          "name": "stdout",
          "text": [
            "1: ZeroDivisionError\n",
            "Caught ZeroDivisionError: Cannot divide by zero!\n",
            "\n",
            "2: ValueError\n",
            "Caught ValueError: Invalid integer!\n",
            "\n",
            "3: KeyError\n",
            "Caught KeyError: Key not found in dictionary!\n",
            "\n",
            "4: Generic Exception\n",
            "Caught generic exception: name 'undefined_variable' is not defined\n"
          ]
        }
      ]
    },
    {
      "cell_type": "markdown",
      "source": [
        "**13)  How would you check if a file exists before attempting to read it in Python?**"
      ],
      "metadata": {
        "id": "4pGR9GK1gI2i"
      }
    },
    {
      "cell_type": "code",
      "source": [
        "filename = 'example.txt'\n",
        "\n",
        "try:\n",
        "    file = open(filename, 'r')\n",
        "    content = file.read()\n",
        "    file.close()\n",
        "    print(\"File content:\")\n",
        "    print(content)\n",
        "except FileNotFoundError:\n",
        "    print(f\"Error: The file '{filename}' does not exist.\")"
      ],
      "metadata": {
        "colab": {
          "base_uri": "https://localhost:8080/"
        },
        "id": "thksw_tIgNHu",
        "outputId": "8e9aac47-9f80-4598-868c-ee148f5dff9f"
      },
      "execution_count": 32,
      "outputs": [
        {
          "output_type": "stream",
          "name": "stdout",
          "text": [
            "File content:\n",
            "Hello, this is a test message.\n"
          ]
        }
      ]
    },
    {
      "cell_type": "markdown",
      "source": [
        "**14) Write a program that uses the logging module to log both informational and error messages.**"
      ],
      "metadata": {
        "id": "b6JXpN5eguHj"
      }
    },
    {
      "cell_type": "code",
      "source": [
        "import logging\n",
        "logging.basicConfig(filename='app.log', level=logging.INFO,\n",
        "                    format='%(levelname)s: %(message)s')\n",
        "logging.info(\"Informational message logged.\")\n",
        "logging.error(\"Error message logged.\")"
      ],
      "metadata": {
        "colab": {
          "base_uri": "https://localhost:8080/"
        },
        "id": "hIVX3x5zgzJr",
        "outputId": "a3d3fda9-d1cc-45a3-b5f7-a2205ad72236"
      },
      "execution_count": 38,
      "outputs": [
        {
          "output_type": "stream",
          "name": "stderr",
          "text": [
            "ERROR:root:Error message logged.\n"
          ]
        }
      ]
    },
    {
      "cell_type": "markdown",
      "source": [
        "**15) Write a Python program that prints the content of a file and handles the case when the file is empty.**"
      ],
      "metadata": {
        "id": "LuaZBY7zh1lC"
      }
    },
    {
      "cell_type": "code",
      "source": [
        "filename = 'testfile.txt'\n",
        "f = open(filename, 'w')\n",
        "f.write(\"Neha Chouhan\\nCourse PW Skills\")\n",
        "f.close()\n",
        "\n",
        "file = open(filename, 'r')\n",
        "content = file.read()\n",
        "file.close()\n",
        "\n",
        "if content:\n",
        "    print(\"File content:\")\n",
        "    print(content)\n",
        "else:\n",
        "    print(\"The file is empty.\")"
      ],
      "metadata": {
        "colab": {
          "base_uri": "https://localhost:8080/"
        },
        "id": "QkQ5UyNuh8gp",
        "outputId": "f428ada3-48fe-44b8-a2ab-8e6d068eacd8"
      },
      "execution_count": 45,
      "outputs": [
        {
          "output_type": "stream",
          "name": "stdout",
          "text": [
            "File content:\n",
            "Neha Chouhan\n",
            "Course PW Skills\n"
          ]
        }
      ]
    },
    {
      "cell_type": "markdown",
      "source": [
        "**16) Demonstrate how to use memory profiling to check the memory usage of a small program.**"
      ],
      "metadata": {
        "id": "zSTavdB0io5e"
      }
    },
    {
      "cell_type": "code",
      "source": [
        "import tracemalloc\n",
        "\n",
        "def my_function():\n",
        "    a = [i * 2 for i in range(10**6)]\n",
        "    return sum(a)\n",
        "tracemalloc.start()\n",
        "my_function()\n",
        "current, peak = tracemalloc.get_traced_memory()\n",
        "print(f\"Current memory usage: {current / 10**6:.2f} MB\")\n",
        "print(f\"Peak memory usage: {peak / 10**6:.2f} MB\")\n",
        "tracemalloc.stop()"
      ],
      "metadata": {
        "colab": {
          "base_uri": "https://localhost:8080/"
        },
        "id": "Kvs_F9dHiud9",
        "outputId": "05914ef2-fd01-4840-8d8c-596b683e28fe"
      },
      "execution_count": 46,
      "outputs": [
        {
          "output_type": "stream",
          "name": "stdout",
          "text": [
            "Current memory usage: 0.02 MB\n",
            "Peak memory usage: 40.47 MB\n"
          ]
        }
      ]
    },
    {
      "cell_type": "markdown",
      "source": [
        "**17) Write a Python program to create and write a list of numbers to a file, one number per line.**"
      ],
      "metadata": {
        "id": "pOJ-YEgwk6rv"
      }
    },
    {
      "cell_type": "code",
      "source": [
        "numbers = [10, 20, 30, 40, 50]\n",
        "file = open('numbers.txt', 'w')\n",
        "for num in numbers:\n",
        "    file.write(str(num) + '\\n')\n",
        "file.close()\n",
        "file = open('numbers.txt', 'r')\n",
        "content = file.read()\n",
        "file.close()\n",
        "print(\"Contents of numbers.txt:\")\n",
        "print(content)"
      ],
      "metadata": {
        "colab": {
          "base_uri": "https://localhost:8080/"
        },
        "id": "_qeHD_q_k_TJ",
        "outputId": "c2cb6609-c84b-4f34-aac1-f9f3acb85a62"
      },
      "execution_count": 47,
      "outputs": [
        {
          "output_type": "stream",
          "name": "stdout",
          "text": [
            "Contents of numbers.txt:\n",
            "10\n",
            "20\n",
            "30\n",
            "40\n",
            "50\n",
            "\n"
          ]
        }
      ]
    },
    {
      "cell_type": "markdown",
      "source": [
        "**18) How would you implement a basic logging setup that logs to a file with rotation after 1MB?**"
      ],
      "metadata": {
        "id": "wOW1xc5ylVkN"
      }
    },
    {
      "cell_type": "code",
      "source": [
        "import logging\n",
        "from logging.handlers import RotatingFileHandler\n",
        "handler = RotatingFileHandler('my_log.log', maxBytes=1_000_000, backupCount=1)\n",
        "formatter = logging.Formatter('%(levelname)s: %(message)s')\n",
        "handler.setFormatter(formatter)\n",
        "logger = logging.getLogger()\n",
        "logger.setLevel(logging.INFO)\n",
        "logger.addHandler(handler)\n",
        "for i in range(5):\n",
        "    logger.info(f\"Log message {i}\")\n",
        "print(\"Logged 5 messages to 'my_log.log'.\")"
      ],
      "metadata": {
        "colab": {
          "base_uri": "https://localhost:8080/"
        },
        "id": "-NrxQhFVlaVY",
        "outputId": "094e0e3a-b0aa-4c0b-fe52-dcf0a056b7d4"
      },
      "execution_count": 48,
      "outputs": [
        {
          "output_type": "stream",
          "name": "stderr",
          "text": [
            "INFO:root:Log message 0\n",
            "INFO:root:Log message 1\n",
            "INFO:root:Log message 2\n",
            "INFO:root:Log message 3\n",
            "INFO:root:Log message 4\n"
          ]
        },
        {
          "output_type": "stream",
          "name": "stdout",
          "text": [
            "Logged 5 messages to 'my_log.log'.\n"
          ]
        }
      ]
    },
    {
      "cell_type": "markdown",
      "source": [
        "**19) Write a program that handles both IndexError and KeyError using a try-except block.**"
      ],
      "metadata": {
        "id": "BZSEJ1RpmRWT"
      }
    },
    {
      "cell_type": "code",
      "source": [
        "my_list = [10, 20, 30]\n",
        "my_dict = {'name': 'Neha', 'age': 24}\n",
        "\n",
        "try:\n",
        "    print(\"List value:\", my_list[5])\n",
        "    print(\"Dictionary value:\", my_dict['address'])\n",
        "except IndexError:\n",
        "    print(\"Error: List index out of range!\")\n",
        "except KeyError:\n",
        "    print(\"Error: Key not found in dictionary!\")"
      ],
      "metadata": {
        "colab": {
          "base_uri": "https://localhost:8080/"
        },
        "id": "Iiy_pXXomVHl",
        "outputId": "62f76db9-7252-4224-f68b-b20dbf271748"
      },
      "execution_count": 49,
      "outputs": [
        {
          "output_type": "stream",
          "name": "stdout",
          "text": [
            "Error: List index out of range!\n"
          ]
        }
      ]
    },
    {
      "cell_type": "markdown",
      "source": [
        "**20) How would you open a file and read its contents using a context manager in Python?**"
      ],
      "metadata": {
        "id": "c7sYiF6smrjH"
      }
    },
    {
      "cell_type": "code",
      "source": [
        "f = open('sample.txt', 'w')\n",
        "f.write(\"Hello, World!\\nThis is a sample file.\")\n",
        "f.close()\n",
        "f = open('sample.txt', 'r')\n",
        "content = f.read()\n",
        "f.close()\n",
        "print(\"File content:\")\n",
        "print(content)"
      ],
      "metadata": {
        "colab": {
          "base_uri": "https://localhost:8080/"
        },
        "id": "9Rws668cmwX4",
        "outputId": "01b8e256-045d-4cdb-9848-e10b66fb005a"
      },
      "execution_count": 51,
      "outputs": [
        {
          "output_type": "stream",
          "name": "stdout",
          "text": [
            "File content:\n",
            "Hello, World!\n",
            "This is a sample file.\n"
          ]
        }
      ]
    },
    {
      "cell_type": "markdown",
      "source": [
        "**21) Write a Python program that reads a file and prints the number of occurrences of a specific word.**"
      ],
      "metadata": {
        "id": "4NPBzuqHnCm2"
      }
    },
    {
      "cell_type": "code",
      "source": [
        "f = open('sample.txt', 'w')\n",
        "f.write(\"My name is Neha. My age is 24. My favourite colour is Blue.\")\n",
        "f.close()\n",
        "search_word = \"My\"\n",
        "f = open('sample.txt', 'r')\n",
        "content = f.read()\n",
        "f.close()\n",
        "count = content.count(search_word)\n",
        "print(f\"The word '{search_word}' occurred {count} times.\")"
      ],
      "metadata": {
        "colab": {
          "base_uri": "https://localhost:8080/"
        },
        "id": "h9ZnFAlTnHQn",
        "outputId": "ea9cbb89-dbdd-4c2f-93e7-914bfc6906f6"
      },
      "execution_count": 53,
      "outputs": [
        {
          "output_type": "stream",
          "name": "stdout",
          "text": [
            "The word 'My' occurred 3 times.\n"
          ]
        }
      ]
    },
    {
      "cell_type": "markdown",
      "source": [
        "**22) How can you check if a file is empty before attempting to read its contents?**"
      ],
      "metadata": {
        "id": "S5950st3n0Tt"
      }
    },
    {
      "cell_type": "code",
      "source": [
        "f = open('empty_file.txt', 'w')\n",
        "f.close()\n",
        "f = open('empty_file.txt', 'r')\n",
        "content = f.read()\n",
        "f.close()\n",
        "if not content:\n",
        "    print(\"The file is empty.\")\n",
        "else:\n",
        "    print(\"File content:\")\n",
        "    print(content)"
      ],
      "metadata": {
        "colab": {
          "base_uri": "https://localhost:8080/"
        },
        "id": "YklL8Z90n6CJ",
        "outputId": "f216c744-aa52-4cc3-ce88-335f0baa0851"
      },
      "execution_count": 54,
      "outputs": [
        {
          "output_type": "stream",
          "name": "stdout",
          "text": [
            "The file is empty.\n"
          ]
        }
      ]
    },
    {
      "cell_type": "markdown",
      "source": [
        "**23) Write a Python program that writes to a log file when an error occurs during file handling.**"
      ],
      "metadata": {
        "id": "YAHUTje7oKc-"
      }
    },
    {
      "cell_type": "code",
      "source": [
        "import logging\n",
        "logging.basicConfig(filename='file_errors.log', level=logging.ERROR,\n",
        "                    format='%(asctime)s - %(levelname)s - %(message)s')\n",
        "\n",
        "filename = 'non_existent_file.txt'\n",
        "\n",
        "try:\n",
        "    file = open(filename, 'r')\n",
        "    content = file.read()\n",
        "    file.close()\n",
        "    print(content)\n",
        "except Exception as e:\n",
        "    logging.error(f\"Error while handling file '{filename}': {e}\")\n",
        "    print(f\"An error occurred. Check 'file_errors.log' for details.\")"
      ],
      "metadata": {
        "colab": {
          "base_uri": "https://localhost:8080/"
        },
        "id": "w5ctz1epoOx5",
        "outputId": "c0902db6-eca1-4930-bcbc-f9d2d4e10936"
      },
      "execution_count": 56,
      "outputs": [
        {
          "output_type": "stream",
          "name": "stderr",
          "text": [
            "ERROR:root:Error while handling file 'non_existent_file.txt': [Errno 2] No such file or directory: 'non_existent_file.txt'\n"
          ]
        },
        {
          "output_type": "stream",
          "name": "stdout",
          "text": [
            "An error occurred. Check 'file_errors.log' for details.\n"
          ]
        }
      ]
    }
  ]
}